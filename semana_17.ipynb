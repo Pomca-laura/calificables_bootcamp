{
  "nbformat": 4,
  "nbformat_minor": 0,
  "metadata": {
    "colab": {
      "provenance": [],
      "collapsed_sections": [
        "MjfU9HdOMS5F"
      ],
      "authorship_tag": "ABX9TyNuGkjON36cQpsf0C8PlqAu",
      "include_colab_link": true
    },
    "kernelspec": {
      "name": "python3",
      "display_name": "Python 3"
    },
    "language_info": {
      "name": "python"
    }
  },
  "cells": [
    {
      "cell_type": "markdown",
      "metadata": {
        "id": "view-in-github",
        "colab_type": "text"
      },
      "source": [
        "<a href=\"https://colab.research.google.com/github/Pomca-laura/calificables_bootcamp/blob/main/semana_17.ipynb\" target=\"_parent\"><img src=\"https://colab.research.google.com/assets/colab-badge.svg\" alt=\"Open In Colab\"/></a>"
      ]
    },
    {
      "cell_type": "markdown",
      "source": [
        "#**RETO 1 PROGRAMACIÓN**"
      ],
      "metadata": {
        "id": "jtt2-65DIoH3"
      }
    },
    {
      "cell_type": "markdown",
      "source": [
        "## **Información general y calificación automática**"
      ],
      "metadata": {
        "id": "G0QvjX2yLg3A"
      }
    },
    {
      "cell_type": "markdown",
      "source": [
        "Lenguaje\n",
        "Python3\n",
        "\n",
        "Intentos\n",
        "0 de 10\n",
        "\n",
        "Puntaje requerido\n",
        "90%"
      ],
      "metadata": {
        "id": "F6f5_8VBIpr9"
      }
    },
    {
      "cell_type": "markdown",
      "source": [
        "###*Instrucciones para la calificación automática*"
      ],
      "metadata": {
        "id": "MjfU9HdOMS5F"
      }
    },
    {
      "cell_type": "markdown",
      "source": [
        "\n",
        "\n",
        "Antes de enviar la solución del reto, por favor tenga en cuenta los siguientes aspectos:\n",
        "\n",
        "- Cada caso de prueba se especifica en una única línea.\n",
        "\n",
        "- Cada línea debe contener los valores de los parámetros separados por un espacio.\n",
        "\n",
        "- Es importante no utilizar ningún mensaje a la hora de capturar las entradas, es decir, al utilizar la función input()no agregue ningún texto para capturar los datos.\n",
        "\n",
        "- Como ejemplo considere el caso de prueba 1000000 0 0, el cual corresponde a un trabajador con una salario base de 1000000 con 0 horas extras ysin bonificaciones.\n",
        "\n",
        "- El resultado debe imprimirse con un número decimal."
      ],
      "metadata": {
        "id": "B_W_NSaqMTEO"
      }
    },
    {
      "cell_type": "markdown",
      "source": [
        "##**Enunciado**"
      ],
      "metadata": {
        "id": "V2zCN_XYLolf"
      }
    },
    {
      "cell_type": "markdown",
      "source": [
        "***Validación de salarios***\n",
        "\n",
        "Camilo, un empleado de una compañía de desarrollo software tiene dudas sobre si los pagos que le realiza la empresa de manera mensual son correctos. Con el propósito de aclarar sus inquietudes y verificar si los descuentos realizados son acordes a lo exigido por la ley, decide construir un programa en Python que le permita verificar el valor que debería ser pagado. Después de consultar sobre la normatividad Colombiana y revisar con detalle su contrato laboral nota que debe tener en cuenta los siguientes aspectos:\n",
        "\n",
        "\n",
        "1. El valor de una hora de trabajo normal se obtiene dividiendo el salario base sobre 192. Este valor corresponde a la jornada laboral establecida en el contrato (48 horas a la semana y 4 semanas al mes).\n",
        "\n",
        "2. Las horas extras se liquidan con un recargo del 25% sobre el valor de una hora normal.\n",
        "\n",
        "3. Debido a buen desempeño de un empleado la empresa ocasionalmente otorga bonificaciones de 5% del salario base.\n",
        "\n",
        "4. El salario total antes de descuentos se calcula como la suma del salario base, más el valor de las horas extras, más las bonificaciones (si las hay).\n",
        "\n",
        "5. Se descontará 3.5% del salario total antes de descuentos para el plan obligatorio de salud.\n",
        "\n",
        "6. Se descontará 4% del salario total antes de descuentos para el aporte a pensión.\n",
        "\n",
        "7. Se descontara 1% del salario total antes de descuentos para caja de compensación."
      ],
      "metadata": {
        "id": "eoGL1AJVJG-l"
      }
    },
    {
      "cell_type": "markdown",
      "source": [
        "Luego de considerar toda esta información, Camilo decide construir un programa que permita a cualquier empleado de la empresa verificar si los pagos son correctos:"
      ],
      "metadata": {
        "id": "sLk6OdTwQnE2"
      }
    },
    {
      "cell_type": "markdown",
      "source": [
        "####**Entrada**\n",
        "\n",
        "El programa recibirá 3 parámetros:\n",
        "\n",
        "- El salario base del empleado\n",
        "\n",
        "- La cantidad de horas extras se representa a través de un número entero positivo. En caso no de realizar horas extras durante el mes, se ingresará el valor 0.\n",
        "\n",
        "- Si hubo bonificaciones se ingresará el valor 1, de lo contrario el valor 0"
      ],
      "metadata": {
        "id": "DC6nQpcKJQqG"
      }
    },
    {
      "cell_type": "markdown",
      "source": [
        "#### **Salida**\n",
        "\n",
        "El programa debe imprimir el valor a pagar al empleado luego de realizar los descuentos de ley. El resultado debe imprimirse con un número decimal"
      ],
      "metadata": {
        "id": "6FtUXH8gJfrs"
      }
    },
    {
      "cell_type": "markdown",
      "source": [
        "#### **Casos de prueba**\n",
        "\n",
        "![image.png](data:image/png;base64,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)"
      ],
      "metadata": {
        "id": "BJh2TOc0QFFu"
      }
    }
  ]
}