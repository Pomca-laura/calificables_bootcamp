{
  "nbformat": 4,
  "nbformat_minor": 0,
  "metadata": {
    "colab": {
      "provenance": [],
      "authorship_tag": "ABX9TyOpNRKuaghe+hNL7k6wDc18",
      "include_colab_link": true
    },
    "kernelspec": {
      "name": "python3",
      "display_name": "Python 3"
    },
    "language_info": {
      "name": "python"
    }
  },
  "cells": [
    {
      "cell_type": "markdown",
      "metadata": {
        "id": "view-in-github",
        "colab_type": "text"
      },
      "source": [
        "<a href=\"https://colab.research.google.com/github/Pomca-laura/calificables_bootcamp/blob/main/semana_18_c.ipynb\" target=\"_parent\"><img src=\"https://colab.research.google.com/assets/colab-badge.svg\" alt=\"Open In Colab\"/></a>"
      ]
    },
    {
      "cell_type": "markdown",
      "source": [
        "#**RETO 3: INSIGNIAS EXPLORADOR IA**"
      ],
      "metadata": {
        "id": "jtt2-65DIoH3"
      }
    },
    {
      "cell_type": "markdown",
      "source": [
        "## **Información general y calificación automática**"
      ],
      "metadata": {
        "id": "G0QvjX2yLg3A"
      }
    },
    {
      "cell_type": "markdown",
      "source": [
        "Lenguaje\n",
        "Python3\n",
        "\n",
        "Intentos\n",
        "0 de 10\n",
        "\n",
        "Puntaje requerido\n",
        "90%"
      ],
      "metadata": {
        "id": "F6f5_8VBIpr9"
      }
    },
    {
      "cell_type": "code",
      "source": [],
      "metadata": {
        "id": "zwp2ETLXeiMe"
      },
      "execution_count": null,
      "outputs": []
    },
    {
      "cell_type": "markdown",
      "source": [
        "###*Instrucciones para la calificación automática*"
      ],
      "metadata": {
        "id": "MjfU9HdOMS5F"
      }
    },
    {
      "cell_type": "markdown",
      "source": [
        "\n",
        "\n",
        "Antes de enviar la solución del quiz, por favor tenga en cuenta los siguientes aspectos:\n",
        "\n",
        "- Cada caso de prueba se especifica en una única línea.\n",
        "\n",
        "- Cada línea debe contener los valores de los parámetros separados por un espacio.\n",
        "\n",
        "- Es importante no utilizar ningún mensaje a la hora de capturar las entradas, es decir, al utilizar la función input()no agregue ningún texto para capturar los datos.\n",
        "\n",
        "- Los resultados se muestran en una única línea. Los dos valores requeridos deben estar separados por un espacio.\n",
        "\n",
        "- El resultado debe imprimirse con un número decimal."
      ],
      "metadata": {
        "id": "B_W_NSaqMTEO"
      }
    },
    {
      "cell_type": "markdown",
      "source": [
        "##**Enunciado**"
      ],
      "metadata": {
        "id": "V2zCN_XYLolf"
      }
    },
    {
      "cell_type": "markdown",
      "source": [
        "***Procesamiento de datos***\n",
        "\n",
        "En un entorno de procesamiento de datos, se requiere un agente inteligente capaz de convertir texto en su representación numérica equivalente utilizando códigos ASCII. Este agente será utilizado en diversas aplicaciones donde se necesita transformar información textual en un formato numérico para su procesamiento, análisis o transmisión a través de sistemas de computación. En un caso de uso específico, el agente puede recibir textos de entrada provenientes de diversas fuentes, como mensajes, archivos de texto o datos obtenidos de sensores. Su función principal es convertir esta información textual en una representación numérica que sea comprensible y procesable por sistemas y algoritmos.\n",
        "\n",
        "\n"
      ],
      "metadata": {
        "id": "eoGL1AJVJG-l"
      }
    },
    {
      "cell_type": "markdown",
      "source": [
        "Hay que hacer la implementación de un agente de tipo reactivo en donde la percepción principal es una cadena de texto que devuelve por cada letra el numero ASCII. Por ejemplo, para la palabra 'Hola' como percepción, devuelve los números: 72, 111, 108, 97."
      ],
      "metadata": {
        "id": "sLk6OdTwQnE2"
      }
    },
    {
      "cell_type": "markdown",
      "source": [
        "El agente pude recibir cualquier tipo de símbolo en el texto y debe ser capaz de hacer la conversión a ASCII"
      ],
      "metadata": {
        "id": "55OKHbKpYKck"
      }
    },
    {
      "cell_type": "markdown",
      "source": [
        "####**Entrada**\n",
        "\n",
        "Cada uno de los casos de prueba estará compuesto por una línea con cadena de texto a convertir. Se deben considerar símbolos especiales como punto, coma, espacio, símbolos matemáticos, etc."
      ],
      "metadata": {
        "id": "DC6nQpcKJQqG"
      }
    },
    {
      "cell_type": "markdown",
      "source": [
        "#### **Salida**\n",
        "\n",
        "La salida estará representada por una única línea formada por los valores en ASCII de cada una de las letras de la cadena de texto"
      ],
      "metadata": {
        "id": "6FtUXH8gJfrs"
      }
    },
    {
      "cell_type": "markdown",
      "source": [
        "#### **Casos de prueba**\n",
        "\n",
        "![image.png](data:image/png;base64,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)"
      ],
      "metadata": {
        "id": "BJh2TOc0QFFu"
      }
    },
    {
      "cell_type": "code",
      "source": [],
      "metadata": {
        "id": "71TJx-tfYpID"
      },
      "execution_count": null,
      "outputs": []
    }
  ]
}