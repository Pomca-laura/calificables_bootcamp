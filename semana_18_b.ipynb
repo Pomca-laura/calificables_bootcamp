{
  "nbformat": 4,
  "nbformat_minor": 0,
  "metadata": {
    "colab": {
      "provenance": [],
      "authorship_tag": "ABX9TyPf6n4PSk+BjWeQVR+PsqZT",
      "include_colab_link": true
    },
    "kernelspec": {
      "name": "python3",
      "display_name": "Python 3"
    },
    "language_info": {
      "name": "python"
    }
  },
  "cells": [
    {
      "cell_type": "markdown",
      "metadata": {
        "id": "view-in-github",
        "colab_type": "text"
      },
      "source": [
        "<a href=\"https://colab.research.google.com/github/Pomca-laura/calificables_bootcamp/blob/main/semana_18_b.ipynb\" target=\"_parent\"><img src=\"https://colab.research.google.com/assets/colab-badge.svg\" alt=\"Open In Colab\"/></a>"
      ]
    },
    {
      "cell_type": "markdown",
      "source": [
        "#**RETO 2: INSIGNIAS EXPLORADOR IA**"
      ],
      "metadata": {
        "id": "jtt2-65DIoH3"
      }
    },
    {
      "cell_type": "markdown",
      "source": [
        "## **Información general y calificación automática**"
      ],
      "metadata": {
        "id": "G0QvjX2yLg3A"
      }
    },
    {
      "cell_type": "markdown",
      "source": [
        "Lenguaje\n",
        "Python3\n",
        "\n",
        "Intentos\n",
        "0 de 10\n",
        "\n",
        "Puntaje requerido\n",
        "90%"
      ],
      "metadata": {
        "id": "F6f5_8VBIpr9"
      }
    },
    {
      "cell_type": "markdown",
      "source": [
        "###*Instrucciones para la calificación automática*"
      ],
      "metadata": {
        "id": "MjfU9HdOMS5F"
      }
    },
    {
      "cell_type": "markdown",
      "source": [
        "\n",
        "\n",
        "Antes de enviar la solución del quiz, por favor tenga en cuenta los siguientes aspectos:\n",
        "\n",
        "- Cada caso de prueba se especifica en una única línea.\n",
        "\n",
        "- Cada línea debe contener los valores de los parámetros separados por un espacio.\n",
        "\n",
        "- Es importante no utilizar ningún mensaje a la hora de capturar las entradas, es decir, al utilizar la función input()no agregue ningún texto para capturar los datos.\n",
        "\n",
        "- Los resultados se muestran en una única línea. Los dos valores requeridos deben estar separados por un espacio.\n",
        "\n",
        "- El resultado debe imprimirse con un número decimal."
      ],
      "metadata": {
        "id": "B_W_NSaqMTEO"
      }
    },
    {
      "cell_type": "markdown",
      "source": [
        "##**Enunciado**"
      ],
      "metadata": {
        "id": "V2zCN_XYLolf"
      }
    },
    {
      "cell_type": "markdown",
      "source": [
        "***Optimización de variables***\n",
        "\n",
        "En una fábrica que produce un material específico, la cantidad producida está influenciada por diversas variables como la temperatura de la máquina, la presión aplicada, y el tiempo de procesamiento. El objetivo es encontrar la configuración óptima de estas variables para maximizar la producción y minimizar los costos asociados. Para la función objetivo se establece una función que describe la producción del material en función de las variables mencionadas. Para este ejemplo se va a trabajar con la función: X^2+5X+6 como la función objetivo. La función objetivo se deriva para para obtener el gradiente. La derivada de la función objetivo es: 2X+5.\n",
        "\n",
        "\n"
      ],
      "metadata": {
        "id": "eoGL1AJVJG-l"
      }
    },
    {
      "cell_type": "markdown",
      "source": [
        "Se desea implementar el algoritmo del gradiente descendente para encontrar los valores óptimos de la función objetivo. En este caso se debe encontrar los valores de X e Y."
      ],
      "metadata": {
        "id": "sLk6OdTwQnE2"
      }
    },
    {
      "cell_type": "markdown",
      "source": [
        "Los parámetros que se necesitan para el funcionamiento del algoritmo son:\n",
        "\n",
        "- Tasa de aprendizaje\n",
        "- Número de épocas\n",
        "- Valor inicial\n",
        "\n",
        "Para probar diferentes combinaciones del material que usa la empresa, hay que hacer variaciones de los parámetros del algoritmo de gradiente descendente. Por ejemplo, la tasa de aprendizaje se coloca en 0.1, el número de épocas es 50 y la posición inicial en 0. Como resultado después de 50 épocas el valor de X y de Y es:\n",
        "\n",
        "X: -2.499964\n",
        "\n",
        "Y: -0.249999\n",
        "\n",
        "Hay que hacer la implementación del algoritmo de gradiente descendiente y variar los parámetros de configuración."
      ],
      "metadata": {
        "id": "55OKHbKpYKck"
      }
    },
    {
      "cell_type": "markdown",
      "source": [
        "####**Entrada**\n",
        "\n",
        "Cada uno de los casos de prueba estará compuesto por una línea con la tasa de aprendizaje, el número de épocas y el punto inicial."
      ],
      "metadata": {
        "id": "DC6nQpcKJQqG"
      }
    },
    {
      "cell_type": "markdown",
      "source": [
        "#### **Salida**\n",
        "\n",
        "La salida estará representada por una única línea formada por los valores de X que es el valor después de las iteraciones y el valor de Y que es la evaluación de X en la función objetivo. Se debe mostrar hasta los primero 6 decimales."
      ],
      "metadata": {
        "id": "6FtUXH8gJfrs"
      }
    },
    {
      "cell_type": "markdown",
      "source": [
        "#### **Casos de prueba**\n",
        "\n",
        "![image.png](data:image/png;base64,iVBORw0KGgoAAAANSUhEUgAAALwAAABmCAYAAABx7PviAAATxElEQVR4Ae2c6ZMcxRHF+ZdsfzFhTBAGB4T1wSCMQICxOcV9ictgIZAFCGPAgBBCCHEIoVtCEgJJHMb+x9rxa3hD7tus7p7d2WXpqQ8T1VWVmZX58lV29WzPXvS/b8839VMxmBcOXKRAt/390aZ+KgZj5IA4TruA8HFizNckdczx1dh+vGN7rivh65Fu1Ju/Ev7b8+3RrVbBH6vgmLGohK+EH3VF981bCV8JXwnPrvCd4DtlTP3VjPW7r79sPt3/QfP+nl1tS39MWK71WDzX6UPr0397svnFL3+Vfl7718uDE/afr75oPvlwb3Py2MHBOtMA+OWZE83GjTe0fuLzUF0HQXrffXOueW/3282NN25sfn3xxc1vLrmkufXWv7ZkZU5yXe3X58409913d+sTLT7GPvOu7zqZjOtk/VnlLbP9U4zBNXi4bt265tihTxbhNsQnz/WKEf7E0YPNtdeubx3+cN+eJTnbF9AsCU/l3brl6dbfbLPv2vnGoBicvJXwS384XnXCb7j+uubYkU/bKkXi+AytPuxIdibk+TkQnrvQ+muvaf198onNzekTR9rPyy9tb2655ebmzGdHl0T4IXj5JhmikxUDVfjl5C2z+1ONrTrhOS5Acg9Yjtzylz83VD4qOUeAhx68v5XXfKyUkJ+zrG7vW555qtn2/Nb22IA8Sab/u8svb9at+0Oz44V/NNffsKEloI4rs5Lx2xzx7f9wb+sLPu/e9eaCmL+9cLb57w9HGo5pr7/6z9ZHfH3u2WeaTXfd2fqZHWGyCt9ngziHyHheRPhS3ohh33vvNDfffFPrL/kjJ9jBTx0P2eRPPL65xYPc7n1316L4r7766jbnHPmOHtrf2qCwgR+FY9db/27XkS+sw3rw5N57NrW4IRuPK7OSibh4rqc60si5jNAiN2Bl80743156aRs8eq++sqMlu2x4SyJJFhvC59QfKgMYDgJjscJzdr/zztvbOE4dPzxJNnJvv/n6xG+trXYo4ftsQPghMjGxXIvw8ket8gah2KQap73yqiubfXt3LyC8xpnjGp0DH73f4kBuIS2fK35/RTt/7fr1LX4iPHPkF10Ijy4y9P0j38B/FjKOied6WYQnsHffeav55sLZ5qEHH2iDuf++e5tvzn/ePmQQDAHqSEMiVeEBkSrw+aljbXXlQRHZRx5+oAUfu5dddlk7RiI5Umy47k9tn+pDRYIUUeaL0yfaB84uOwDiIDDGhqJyQ/aYFGLUnSv6f/tttzafHT/UHNj/weToNoTwZ08fbzcTa3BnOHPySPPR+3uKNkrr4Isnt4/wKkSb7rqj+erL0+1ddeebrzXHDh9YQPi77ryjufDFqebc2c8mvj7+2KPN2VPHJvhyF+RBXs892BbhiY0qDok52r6y48UW06uuuqrdXGdPHW/nkRPhX9q+rZWhDx7gojunZOR/lx3HxHPdSXg/C577/GR7q9XCcoRFBDZJJxnZGT4SBkAAHd1MNt5isT0rGdZzECJIJAPiU+Ej+Z/bumUBKcAAvRjTEMKfPnF4cnQo2Rgi00X4Ut44tqlA6BsoCE/BcryFifIKHgc+3jfZmLEocI1cJDx3DbchbjDuHNI6y5XRmmo9152E1/lLymrdWcbd4UhQBe/kUNKirO4GnoBZyeCrg6C4/DvyWOFIxBAi4jeykIDW+0NsDJERdvI95qCUN+5iH3+wt7nn7k0LjjYcQx1v2VVeI+GpsB/te6/VQY8PxSsSXnmMfi2XzPKly478Vuu57iS8VwoCA+ghhPcjCEcXbpORDEpalCUoKg4PSjpvMoaMHmKfefqp9k7zycf7GsBXhRliByAcBMa4e5HU57duaU4ePdQmEfuQB/vc0s+fPTW5xesOdejARw0PcCWCg1mM+ezpE5NbNTYunDvTHo02bLhuYiMee0rrCDslllaEKOWNszS48kDMcWT7tu+fiTiynTl5dBLrzTfdOPmWimti46iJjI6ePE+RJ/zg+Al+JcLH4wp4sTk4+mJXpwQ2nfpHDu5vbYO5xih4Q+xEPLj2XHcSnsX8A9mHEJ5vNh7b/MhEn8B4aIrJV9L6vgMnkUMeWofYyUBgjL+Ecl73eOnroQ05jjslOWJzgnufmIc8kPatI+zwSR8RPouBnMkm/l99zR8nRzaIj5/a3K5P/JCZHGDH46fPfInwPCOoKLhtEX7IQ+sQO8JC7aoRngWpVPfff08LLAAf/OTDlPDIksD4teSLLzzfUKkAiERmMsjrj1slmcyOg4BtKh4PS1TU+O0ElY3qggwf/7qQhzbuDPg5lPBugzvWHbffNrEBFi7j6yyF8BCWCi9ciXPb88+22EfCP/zQA81TT3z/tSRE3fnG6y3ZhRNfNkQbfInA3bVEePT8K8dnf/gjnwjvMndvumtyxyrJkKvMDrb08VynFV7CY20dhLHGOU1ckfAqHtPor1VZz3UlfKgGazVpq+FXJfyIieC7fjUItdbXqISvhJ+cA9c6Wat/P57ZHQsvbvVIM+KN7cmfx34lfPLd7DwSYV5iroSvhJ+ro1on4Zmsn4rB2DgQ72b1DF/P8KOu+J0VPu6EMV87CGOOdd5j81zXCl8rfK3wY68KvuvHHu88x+e5rhW+Vvha4cdeEXzXjz3eeY7Pc10rfK3wtcJTEeK7zaWfjMXKwctHeh88jpeueQWVNeI873jrByK8X86PDeJ86TqzVZJl3Hd9Jhvjxxf3NdPBX/d5qB39hDFbp4StdPAvvjOe+VYaiy+NDY0zw7vPDjrY50OO9T4/eGk8tlEG36Oc5hxb6Ue+eq7TCg+QG2+4fvLDBxbTIhlwciYulMkxFpPkyQUUPsgJQJeJdrtsRTm/dhB8nmTwf3GUFMfD5eUrgIOF5qexI0J4vCVs3Sf6/IcDfNH6fS3+kVf57DZdn3k2FnFGP/vsYD/yJ+bZ15CtaB/5qO86sY+s4mHcc50SHgUUZQgQAZOANaZWwfCLlj7ABah+6heDytZwP7QmbZetKJddOwiZjI85kJoX2YmlJCNZ2kyGWEgo+EVMurDNsMlsx7X9mnU9ZyUbXXj32XGbxFgisM9ltj0O9TNZz/Uiwmc7DIPutBZRmy2mOW+zNTxQdIbYzGz5et53EHze+0PX6MMos6OxPbt3tiSIhJcfGQ4Z4bMx2cjaTD7LQ9SVv9HPPjvIxrt/CaeSbexHH0rXmV3PdSX8gIdWT9g0gEfZzI7IkiVbuhnhGYvHTt1pSLr0+lqtHeXwsVR9kcv8HGIHuzpjlwicrU08/OidDSN95KLPXGcYMV4Jn4Dg4MU+4A59IMwqjGxldmKSMiJJN8ppjBabIgGE4F+MrEXC+4agn20qfHcyMxbvDr7RhQc2s420LMK7M1qMtpSUKKPrLLnYdhCwufnRhycPj9KPbWYrzmfXEQQAFWmc2My5T5k9jSGfgZ7ZUUUWpl1xDMW2tL7WUpyKCV/Rkf+0+ONjcT7zs8sOa/vzHzbIK3HJNnL4Rasx2iwmH8vsyUbMNWOLjjTZIpnTMqh2aFKQz0DL9DMgtZ7azJbmSq2DkMk5qJmMj2U62Rh6EEsE9BadaDvDJs5zPSRHrpMVmZK/0s3w7rKT+ZURtLTR4AAfrU/rPoJPqTB6rlPCYyCeD1lQVcHn5MiQpEg2A02BKNkAxa0MIKSXtSVbmazGHASNq+2LBR/lp3Ros0T4tyBRPl53xdHnj9bOfIpr+LXWFKFibn1OuhqPedFYZifzLfJJdh07jUefGPM+Y9grxe65TgmPEQJS5RHZSwtqfLnJFXBaN4LKGtlHOkNkpe8gaFwtoOr7ZvlCKxwANwPYk9ZnR+vRdsWBHcdWBUH+Zf5E+6XraCce6eSPSCx9jTveJTvSwz/5Gs/kzGPTjzjSo404Rh8lg233R3Oe6yLhpTDG1kEYY4w1pu8LpOe6Er5w56iEye+oPzdcKuGn/Fry55bg6u/CjVoJXwmfPguNdaNUwlfCV8Kzu30njHXHz1usY87jkNic1/WhtT60jrridxKeyfqpGIyNA/FOUCt8rfDzW+HjThjztd/mxhzrvMfmua4Vvlb4WuHHXhV814893nmOz3NdK3yt8LXCj70i+K4fe7zzHJ/nulb4WuFrhaci8H5x6f3lWDGiHPKl95LRie9MI+vvcOtda63r72LHdblmXrJ6V91lsr7v+kxmmrikr/e2IwYec5xDryuGPt2++fgOumMtn/vaLv+ibpTzd9bdT3KGfNRfqWvPdVrhSVzpF0/RMQg6zT8s4tfn2MaGyB0DJylKjEBygmh9xuMPCaKuZEqtg+By08YlfXwgmfLZY6Aff99J7HGj0i/F77qOn+fM8aAfsZbPXe1QjPFtx4vbJwR2PXzzH7B0rTvLOc91SvgIPIs72F0OTQMswCjh2RruR1zX15kGVAch2i1d+3oux/rEQmJF+Bif5BWTCCtZ5iMGXbrIZvHKx2hH62bymiu1sqf5oTY8NvRKvzmV7ZVqPdeLCO/OyhEPXuOxLelGmXit5DOWJbgEcJbQadZ2EKJP2XWfbc37P1PKYtIYMbBB6GtN2WFMcoxpPo5F7Hz+9InDC+4kzGeYSS9rM/noX6ajMdeNfktmtVrP9UwJT2DxmNEVFKDEH2lnoKwVwvfFJfI5ITxGzeuuhp6uwYp1dCQaoksRihhHDJmL86zlZ+uo69dOWublP+u4fOyX4tLzVvQr6q3E9YoRHhCGAqpkAoyCjMnS2FogfF9c0ceMEMyDC8mm5Zknkpzkiwjc9mPV79IFOydOxFC+yDb/pCk+PwjjUrtUwuNXV9GTX+57yY/lji+L8ACaOYDzMYmZjMZKBIrJkiwJz85+pWR0/fJdNmkjCJFwvmH74tLGFS5KpvpxTV1nRNVcFpfmaKNuvJYM65aIFDem5NViSxuDFjuZL8RXwlixl9bXWrRdvkS5WVzHXGNv0ZGGQZwGBC2YBa85l9V41gJkaWNkIGRJxa7AjcTK9DMfGHMQMrkhcbF+JEq8zhKf+R3X7sLHdTPZLp9LWMb147Wvx1wJ40w22vJr7GSFzOVm0fdcp4THodLXknGuBEDm6BBQSJiI4tXTbZLweOuMui7rfQfB5/viKq3VFyOkK234vnhdV2sxjv8xL1k8MZ8+X+p3YRznss0XbfIwT3yMud9RbiWuPdcp4VmYIFSxYpIisFzrfCpZ2iivIBRolOM6HiNcBh+kn7UkW/a0UTI5H3MQfL4vrqGE93gcl4gxccR4+3TxWZvEcWQuYhMx9lj7+tFOxBhfVXA8Ds9JtMEc/b51ZzXvuS4SflYLrkU7DsJa9LH6tPDfbSwVD891JXx9l2bVqu1SSbscvUr4gQ+tywG56s6mOs8Cx0r4SvhRV3TfJJXwlfCV8OwK3wm+U8bUn6dYx5S3pcTiua4PrfWhddQVv5PwTNZPxWBsHIh3hlrha4Wf3wofd8KYr/02N+ZY5z02z3Wt8LXC1wo/9qrgu37s8c5zfJ7rWuFrha8VfuwVwXf92OOd5/g817XC1wpfKzwVIb7jrPeeuyoF72bzvrde9M9k4/vbemc6vhvt74DHObfn76zHd7Vd1vu+632efowfX+lncnFMPkVZjznOoRvfFff35afR9XfeXXcafGJMXf6V5Pp8Wc134j3XaYUncfEXMgTtyciC7dsY2O36hzzxhxVKmBNE68Z/6tQnKx21DoLG1bLxpvkHU9LD/7g53C/68YfUjit9EbNPl/muf34U8VEhwb58HdKCfcxpzE/U7/OlL+/R1qyvPdcp4SPwOOCJik4paZ/u/6CTzOgQeOm3jNka7kdc169JxtCEOghuK+v32Sc2isJq/SMm91GkLhUIxruKltuj7zEPJa770pX3bN1ZjnmuFxHendXiHrzG1Q4Bowv0bG6ITdYfKidfHQSNl9oSJpLX/Gr+IyatrTYrGJqjnaZ4IJ/ZU5ylTaX1XDfLrWRXuvVcrzrhdXanZRMp4AyULiILfOxMW7kcBPlQavEt3tpdTmSSTyIEiUdPfc3LX/R0jU3kdCTq0818iLbivNuKc6VrJy1y8l/xlHRLcSn3Me8lG7Ma91yvKuFjEAJPwQOiJ6yL8NEWcjwo9SVCOg6CxrMWm/4QFuWij4op+iHfSDZ2ZvWPmKIPEKy0IUV2ZKJO3/VSCd/lC2sKI+W9z4/lznuupyJ8TKQ7EhPvc6V+1MF2RvjSmd9tZvouo34EAeBVeZzYzLlPskErMgkXJVP9KKtrCFFKdkYy6dG6rtYr2cMPjyna0zV2hQEtepkvrDf3/4hJoEXyaqyvRUeEzvQ9wV32SFIXOaNuJHwcj9eQiPXjmF+zZiRKvM5IKIKi57bod8Xgut53e122XDbrZ/azHKGbyWY2NRbzrrGVaj3Xiyo8C+NQ6WtJn5OjJTA0T9v3D3kgiYji1TPaAeD4taFk+wgqGw6CxtX2xRL9lA5tX+Lxr7QpFUNpM7huF6H7/Ig+d12zRjwqxbjjXJcv2O/Le5cPy53zXKeEZxGCUMWKSVoO4UmabNI6QZUoyeBDKWDAl1xmq6THuIPgssTIUSDa51o4xMRHXfkvv9WXHelLJ2KMjPSYn1ZXa+Cb62puyPFGvqmNOcO2xvFVm8Hj0HqSjzaY87zL5kq0nusi4Vdi8bVi00FYK35VP2b/7z0815Xw9V2aSdUe44arhB9wpBlj4uc1pkr4SvhRV3Tf2JXwlfCV8OwK3wm+U8bUn6dYx5S3pcTiua4PrfWhddQVv5PwTNZPxWBsHIh3hv8D6/5g8OdSeUYAAAAASUVORK5CYII=)"
      ],
      "metadata": {
        "id": "BJh2TOc0QFFu"
      }
    },
    {
      "cell_type": "code",
      "source": [],
      "metadata": {
        "id": "71TJx-tfYpID"
      },
      "execution_count": null,
      "outputs": []
    }
  ]
}