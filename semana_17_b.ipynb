{
  "nbformat": 4,
  "nbformat_minor": 0,
  "metadata": {
    "colab": {
      "provenance": [],
      "authorship_tag": "ABX9TyN8kaL4jmO/4IMtL12G+i6Y",
      "include_colab_link": true
    },
    "kernelspec": {
      "name": "python3",
      "display_name": "Python 3"
    },
    "language_info": {
      "name": "python"
    }
  },
  "cells": [
    {
      "cell_type": "markdown",
      "metadata": {
        "id": "view-in-github",
        "colab_type": "text"
      },
      "source": [
        "<a href=\"https://colab.research.google.com/github/Pomca-laura/calificables_bootcamp/blob/main/semana_17_b.ipynb\" target=\"_parent\"><img src=\"https://colab.research.google.com/assets/colab-badge.svg\" alt=\"Open In Colab\"/></a>"
      ]
    },
    {
      "cell_type": "markdown",
      "source": [
        "#**RETO 2 PROGRAMACIÓN: MULTAS POR EXCESO DE VELOCIDAD**"
      ],
      "metadata": {
        "id": "jtt2-65DIoH3"
      }
    },
    {
      "cell_type": "markdown",
      "source": [
        "## **Información general y calificación automática**"
      ],
      "metadata": {
        "id": "G0QvjX2yLg3A"
      }
    },
    {
      "cell_type": "markdown",
      "source": [
        "Lenguaje\n",
        "Python3\n",
        "\n",
        "Intentos\n",
        "0 de 10\n",
        "\n",
        "Puntaje requerido\n",
        "90%"
      ],
      "metadata": {
        "id": "F6f5_8VBIpr9"
      }
    },
    {
      "cell_type": "markdown",
      "source": [
        "###*Instrucciones para la calificación automática*"
      ],
      "metadata": {
        "id": "MjfU9HdOMS5F"
      }
    },
    {
      "cell_type": "markdown",
      "source": [
        "\n",
        "\n",
        "Antes de enviar la solución del reto, por favor tenga en cuenta los siguientes aspectos:\n",
        "\n",
        "- Cada caso de prueba se especifica en una única línea.\n",
        "\n",
        "- Cada línea debe contener los valores de los parámetros separados por un espacio.\n",
        "\n",
        "- Es importante no utilizar ningún mensaje a la hora de capturar las entradas, es decir, al utilizar la función input()no agregue ningún texto para capturar los datos.\n",
        "\n",
        "- Como ejemplo considere el caso de prueba 9165 110 300, el cual corresponde a la medición entre dos cámaras separadas por 9165 metros; una velocidad máxima permitida de 110 (Km/h) y un conductor que tarda 300 segundos en recorrer el trayecto.\n",
        "\n",
        "- Los resultados deben imprimirse siempre en mayúscula sostenida"
      ],
      "metadata": {
        "id": "B_W_NSaqMTEO"
      }
    },
    {
      "cell_type": "markdown",
      "source": [
        "##**Enunciado**"
      ],
      "metadata": {
        "id": "V2zCN_XYLolf"
      }
    },
    {
      "cell_type": "markdown",
      "source": [
        "***Límites de velocidad***\n",
        "\n",
        "Debido a la alta accidentalidad presentada en el último año en las carreteras del territorio nacional, el Gobierno Colombiano ha decidido implementar controles que permitan sancionara a los conductores que no respeten los límites de velocidad establecidos por los organismos de control. Con este fin, el Ministerio de Transporte ha decidido implementar radares de tramo en las carreteras con mayores índices de accidentalidad en el país.\n",
        "\n",
        "\n",
        "Los radares de tramo funcionan colocando dos cámaras en dos puntos alejados de una carretera con el fin de comprobar cuánto tiempo tarda un conductor recorrer dicho tramo. Estos radares no mide la velocidad de paso, sino el tiempo de paso representado como la velocidad media de un conductor en un trayecto con una longitud determinada.\n",
        "\n",
        "\n",
        "Formalmente, los radares de tramo se basan en el teorema de Lagrange (también conocido como el teorema de valor medio o de Bonnet-Lagrange), el cual nos dice que dice tenemos una función continua en un intervalo cerrado, y derivable en un intervalo abierto, entonces algún punto de ese intervalo abierto la función tendrá una derivada instantánea igual a la pendiente media de la curva en el intervalo cerrado.\n",
        "\n",
        "\n",
        "Aunque estos conceptos pueden asustar en un principio, su interpretación es muy simple: si hacemos un viaje desde Bogotá a Tunja y nuestra velocidad media es de 100 Km/h, necesariamente en algún punto del trayecto nuestra velocidad habrá sido de 100 Km/h. Esto quiere decir que si la velocidad media supera la velocidad máxima permitida, gracias al teorema anterior, sabremos que en algún punto del trayecto se superó la velocidad máxima permitida. Por ejemplo, si colocamos las cámaras separadas 10 Km en un tramo cuya velocidad máxima es de 110 Km/h, y un conductor tarda 5 minutos en ser visto por la segunda cámara, sabremos que su velocidad media ha sido de 120 Km/h, y por lo tanto, en algún sitio ha superado la velocidad permitida.\n",
        "\n"
      ],
      "metadata": {
        "id": "eoGL1AJVJG-l"
      }
    },
    {
      "cell_type": "markdown",
      "source": [
        "Usted hace parte del equipo de desarrollo encargado de construir el software que procesará los datos registrados por las cámaras.Su misión es crear un programa en Python que permita saber si un conductor debe ser multado o no."
      ],
      "metadata": {
        "id": "sLk6OdTwQnE2"
      }
    },
    {
      "cell_type": "markdown",
      "source": [
        "####**Entrada**\n",
        "\n",
        "El programa recibirá 3 parámetros:\n",
        "\n",
        "- La distancia en metros que separa dos cámaras.\n",
        "\n",
        "- La velocidad máxima permitida en ese trayecto en (Km/h).\n",
        "\n",
        "- El tiempo en segundos que tarda el conductor en recorrer el trayecto"
      ],
      "metadata": {
        "id": "DC6nQpcKJQqG"
      }
    },
    {
      "cell_type": "markdown",
      "source": [
        "#### **Salida**\n",
        "\n",
        "El programa imprimirá una línea indicando si el conductor debe ser multado o no. Se debe considerar lo siguiente:\n",
        "\n",
        "- Imprimirá 'OK' si el conductor no superó la velocidad máxima.\n",
        "\n",
        "- Imprimirá 'MULTA' si se superó la velocidad máxima en menos de un 20% de la velocidad permitida.\n",
        "\n",
        "- Imprimirá 'CURSO SENSIBILIZACION' si la velocidad fue superada en un 20% o más de la velocidad permitida. En este caso además de la multa deberá realizar un curso de sensibilización.\n",
        "\n",
        "- Debido a que los sistemas pueden fallar y registrar valores errados (por ejemplo, indicando que el tiempo que ha tardado el conductor es negativo). En esos casos, se deberá imprimir 'ERROR'"
      ],
      "metadata": {
        "id": "6FtUXH8gJfrs"
      }
    },
    {
      "cell_type": "markdown",
      "source": [
        "#### **Casos de prueba**\n",
        "\n",
        "![image.png](data:image/png;base64,iVBORw0KGgoAAAANSUhEUgAAAQcAAACDCAYAAACA/d7dAAAb+0lEQVR4Ae2d6ZMtVZXF/Ze6+0sbbRtEG4GERCOCICggMygqCg0iNiDI3LQ08zxPjwc85DGIOHb/Y9nxS1jFql37ZOatynsr6939IeNknrPPHtdZeTLve1lf+b+//rGro3JQGCgMRAx8JXbUdYGkMFAYAANFDrVzqp1jYSDFwA453PWfN3R1VA4KA9uJgWy3uIscMoHqW/8WkwVZeV5/nivHeY5b+CtyWMCWslWcAnMO5srLvHlp4a/Iocihdi0LwMBhEl6Rw4IB0CrOYQKmbM97d15yPlv4q53DAkijVZwlA6p8O3XIo4W/Iocih30/Vvzls4+7V158rnvh2Se742+9tm89RTSHSzQbJ4c/f/phd91113b/8I//lB4vv/jsZDChC/mPT743ec4qgEO3/FzFr1VsDMm2ijM0Z9Wxv//l0+65p5/ovv/9C7t//upXu3/52te6yy67tF/YjE3R94cPT3QXXnhBn6tbf/XLLl5nOhwH4IHrTG6sD3uqUWx/99AD+9I5ZnOd4/hMHGeeeWb37rHXD9X/Fv7WtnNwUMRicj11Eb7+8vPdv33jG2tN4qlODn//8x+6O267tbm4nnz8kUngjGQQr7PF5Dgocvhyh1Dk8MXO4dprru4+fP94f6cBUBx//ezjSYDUwl0nw8rGKqSVLYT99rWYe7/64rz3332rO+fc7/Tk8Mubb+xOnjjeHw/cd3d3ySUXdR/+/p1JtZhCBtH23ORw/vfO6949/uYuLO13NxJ93eR1kcMX5NC6YyhBl/zw4o6717nnntNvea//2U/64mdbSba17xx7fWd7++D993Q3/ccN/TwW+Qfvvd1BRmyd0csC0M6FcQAwl8xcYFo3Obz28vP9YwR5ePrJR3cRAST9v188VrDI7rrzji92at/q7r/nt933Lji/z1/2GJGRxd/+9En38H8/2J155rd6Pb+5/dfdNVdf1esQDqbIxNwKC9Qfu3GcGF587qnuoot+0Nui9m++9lIvJ/KHIB9/9Hc9LsAHOAEL0oVeyJOdKsevbrmp+9MfTvbjwupll/6w13HWt8/qH5vJGXawh84f/+iajpjJtd/Q5pKRr3O2LfwdymOFCqyEa/F6y6IWILw/ksNpp53WFwKZp554pH+Odnk/BySffvT+LDKbKM5cNnznwLuGq666oiP3LAwRAy3E4Pny86nk8MSjD/eLxOfqXOQwRSbGnmEBvVqALD4WtGzRfvOMb3YvPv90/wjr/Wed9e87ZMl7FzDx2acfdj+57sf9fDAlXN3wi+s7XrwKqxDAv379670c8Rx/69Xu3HPO2WVXtuQb+Z9DJuZkrutFkwMJf+apx/oiXP+zn/aJplB/+eNHO4VVokmI37HOPvvsXoYCPP7Y58BE3yMPP9R9+vHvu1tvuXmncJDDs08/3l9TfECKrptvunGXDHLoGNIzV2HQ0yrOXDZY+NzNIQYBl5b4tEv75OSJ/mUl/b/4+U/7vFATLZIp5MBdFuJBB7sFHiVfeeHZfgHTx2Ii37RcX3H5Zd3v3zvWvfHaS7tksseEMXLQ4r3m6iv7uz062CW8+/YbOxjC5v333t0T4uuvvtidccYZvR9gQjVn98pjF37yyCXcST862FF89MG7/YvEhx64r9eBLojo4w/e63cPyGnufXff1ctwTT7Ii3ZTkpH+IT1z4SHqaeFvIzuH+M4BpuYNuRKiBOG0QKC7DEXzRCPj5EChdPeTPu1MkNV8dHA+l0xM8EGuW8U5iM5sLsCFJFjAThS/ueO2HujUQXlivud5Cjm4PHlGB4tUZEB78sTbO4+ELZkhcojvHMASjyk8OonI9EsM5MBdP2IgxsbiFS6IPx6OGx6X3jn25c+2Ea/oli7hei4ZdK/jaOFvI+SghR4Di0lkPCZShfWiOAiRl17pK3LYCyJ+sVCeaNlV6S5Pfd56/eWduzc5RybmeZVraoGOucnBa+vxcIN49aXnux9de82uxwseT4WhFvE5OVx91ZU7Owfi5eC9jLClBS/bEa/0R9m5ZGRz7vZQySHuHIYSHhP51huvdKeffnrP5hSRuWyBAQnFdnLwRwZ+0+eucduvb9m5EwCS5595st9Oc5fhnB2Mtn0CzxQ9cxaoVZy5bHB3hQjuvOO27v13jvU5ZFutHPJCl630+ed9dyen5I786DmePJN7zcmueW7XdpkXc1zz2HD++ef1eiEh/q2KSAkZHkWOvfFKx+Mh+W/dSISLuHPAJwjojVde6P1lF0FN777r8/cnPDa98NxTOxhAD7GBD+00nnzsf3oC4TGLbf1LLzzT70b5FYdHK4gnLnjVRtiBNIiDePTuQkSil+Jc84/FsE/OiVcyU/TI5txtC38b2TmQhHiwULOECwQCyWeffNBdftmlO/MBp/9agbySBfB4axxt6RqbLBReQqkvtshM0SObc7St4syhGx38C0aAH2PlmsXPwhr7txDkeYwcsDXlZSOPNi1/VPcYu3CRxQCOpBO9Z3/n2zuPTZAENc3m0QdeqLe/kHRZ/tEYN6MMq/jIOw0Rm8/jXAt/ygvJKXpiTua6buFv8eSgArCgKfzFF/+ge/ftL3/KdHJANv5MKUamWIAkk+GOqsK2ZDI96y7OXPq5k/IijDs1b/CJFVLgxaP/6zzuwP5T5r333Nlxp0Z+KjnEnyl/fest3ZVXXN7r0MKPMvwDLe0mJBNjHyMH7u7sdOQvcd515+39rsLJgTrqZ0cwxaKULe76+KIcnXfed7v/evDeXkeLHJgbf6a8/Yt/cCZyiDLspBVPS4ZaZXrk65ztxslhTudPdV2t4pzqcW8qPicHkf+mbB8FOy38rW3ncBSSshQfW8VZin9H3Y8ih70vqL2mLfwVOazp5yFP/th5qzhj82p8GPTKT5HDcJ5a+CtyKHLYeebWYqp2eDGdavkpclgACbRA1SpOS776t2vxrrveLfzVzmEBpNEqzrpBUfqLZMBAC39FDkUO9VixAAwcJlFPIgeE6qgcFAa2DwMZOdXOYQF3jRZzZwWrvnoUmBsDLfwVORQ51GPFAjAw94JfRV+Rw4IB0CrOKgUu2dpR7BcDLfzVzmEBpNEqzn6LXfOKKFbBQAt/RQ5FDvVYsQAMrLKY55YtclgwAFrFmRsEpa92FBkGWvirncMCSKNVnKyQ1VcLfG4MtPCXkoN/1MO/gxCd4v+4c8T+1nz/ZJi+nxC/xxB1cY0+/p8/bTae+RFtZX5KV/Q3flNgTJf/xx4+RtPyU/ZimxVH/99feYo+oQMZj0txTMlp9KGut5d0MvyBhz3kIIDp/71zzVeC/aMgkgG4Dk4UIscHLDTfQZfp8vHsHP3YyRbdkB8sEC0SyWU+YZN+jYkIPK4hXcR74QXf28kP87KFnMWmPi+O7Ecd6PUPgzAXv+Sn5ulauqvd3kU/tfaOP5+zhxxYJBkws4Xm4JTSrE9jLFJ006pvqNVC40s7EJTP8wUfbTIWCQ1dimHIJmMuO6bLZZmbyY/Z8+IoZhZ7nBdtedycT40v6q3r7SYQx59jYRI5ZISBEgcn1yyMocXPXTYucnemdT42L/qR+TumQ7bj4h7S9cF7x/p4kdF82uiPj2XnKo7u/lGf5sQYZCeShuSr3e5FP7X+wl+U30MOLA628AKoABt3EygSOKUU8N54w8/7P6OWPSszztY4G5OOrI2LIspEP4YWNPHF+VyjI3t8GdI1NzlEYop+xnF85uO7WW3i3LouomhhYDI5oMAXMYuZv5mYATAuSs3jTiZHkOHQtbf0Z3pdhvNNkINsihwVw9LJgfcd/s5DcVRbZDAVAyuRQ1Ta2rZm5BAfG4YWdrwTRru6HtKBTPSjtaDZ1WTP8rKj1u0N6cJ/yA0ZzZU/sc/H47mKo11aa677JTvUBvn4sjLaqOsiixYGhL84vuexIgoMATYuSi0WWumJgFY/bSbv4zof0oFM9COTbxGcbHjr8/1cMq4r2iam+DJU81qtF8d1R/k45rYZy37RiTrqukgiYsDx52Oj5ADoWlt/B6eU0seRXfOrA4stG1Nf1mYL1OXG/GDB+nsUn8s5f1xVhCYybMUQdeGbb+uH8hXt6tqLk9lHLlv8MW6uW7WSrWqLHCIGHH8+toccBM4pLw0jOKWYfs3nXP1sf9VP62OSydr9kEOMo7VVxx4Lb8ivMV0e134WZ1YczyG+ZXqRwXflTH7WDqIIQJiY0mb4Y94ecpiirGTmBV+rOJXnefNc+czz2cJfkUP934qdnUctnnzxnOp5KXJYAAm0QNYqTku++rdzEa+r7i381c5hAaTRKs66wFB6i1wcAy38FTkUOdRjxQIw4It10+dFDgsGQKs4mwZJ2dvOHUULf7VzWABptIpTi3U7F+um697C3y5yQKiOykFhYPswkBHSLnLIBKpv/XevFnNX7tef+8px/a3MRb90K3IoEjhMkmrhr3YO9c5h0cR5mItmW2wXOSyABFpgaxWnJV/9tdOYEwMt/NXOYQGk0SrOnAAoXUUoLQy08FfkUORQjxULwEBr4W6iv8hhwQBoFWcTwCgbtaNo4S/dOeiDJvrGQetbCHxLwL8nIKC15ut7A9JLO+WbDujjewa0suFt5ke0lfkpHVE2fjuhFY/mo1sxxbmSGWq9OPo2RCvn8kV5k++ZvH/vIfsmhmzJd29dH3r2E9dQzDW2HFJy/Hld9pCDwCdwcB0/eyYZwBQXHSDke4aa78YyXT6enWvhZR8wGfIDQGsBSS7zCZv0+9jQ3BgD/vnC4Vp2s3iyPi8OfvBlqdb3LpUP2TgIObgvLb+pJ/FxcO5z6nw5C/wgtXD8uZ495AA4HewIO3B8oQFQxlxh1qdx5qKbVn1DLbqR3/QftfG77FA+soUZyWMoPo15cUQO/uk5yUk3xLEpcqAGOmRT/lRb5NDfVSNhAIxIBGOL3xfdKsAamxf9yBb0mA73x+f7uWTUp3i51lhGGBprtZEcyDV/DiAuRuwoVo0N2ZMsdsfihwCkU36iGyJi7th8zan26BGG48/rt2fnAOD9Y6wC3xRyAECACWDr+dXnMb7UP2qjpCheFgt9Y/lAzmNkARO7E4Z0t1ovDvPQd/LE8V2Pc/KLcV/I3h/1H5QcVE9sDNmJduv6aBGE489rt4ccGPRFvE1/1EYLIN5Bx/KBvMgQcmRxH5Qc8MUXt0iD/k2Rg9sHF27XQVTnR4sMYr1WIoc4uQWKCB4W0VH9ozYigCmLupUP8sZOI77AjfmM114cJwHPp+fa7YvQMr+Zo37XFe1z7Tq51o5JpKe2/njO0SaCrPaOPx9Pdw4uMAY+QCV5AMVdk1Z9Q6DM5DXP2yEdyPnC4TqTj+BfRb/LDuUDOV/cPm/o3IsT5xMbj2lOujGWGD+2op9ZTtynqDP6IdnMlsaqPZrE4fjzGo6SA6DxZ2qfnAGFPg7J+fVS/6hNFof8j+1QPnS31d06zm1de3HiouSauzZ2NT9byPGOHv1clRxaOYn+yadqjyYxUDfHn9dxDznojqNtZIsYUNICEP2az7kMCujZmGSydgzYmR8xDmxnuulzf+UbLXOinpiPGNOQnZZ9Lw7z3Qb29YuB5kdyoD/64ToYJ4f+Mpj4/N+OuE5ks59S0bNfApTv1S6PRBx/Xp895OCDdb6ZQraKU/nfTP63Pc8t/BU5LOD/XLSKs+2grfg3Q44t/BU5FDk0H7dqcW5mcR52noscFkACLRC0itOSr/7tWLSbqnMLf7VzWABptIqzKXCUne0mmxb+ihyKHOqxYgEYOEyCLnJYMABaxTlMwJTt7dlNtPC3a+eAUB2Vg8LA9mEguxnsIodMoPrWfwdpMXflfv25rxyv8C8kK1mbB2SRw+ZzXjj/Muct/NXOYQHvIlrFKQB/CeDKxfpy0cJfkUORQ/1asQAMHCb5FTksGACt4hwmYMr2+u7US8ttC3+1c1gAabSKszQQlT+nJmG08FfkUORQjxULwMBhEu+s5MD//efwgOJ3D+K4vgOg7yXE7x4gr7H4LQK30zqP+tHlPsTxaL+lN+vnewd8Y4GYfXwohiH7Xpz4XQbi0Dcxsm8yaAw/Yg2Y699skK/Rl5gr5MZsSVe1R3834fjzeq60c3BQ+cJDISAVUCWnBSjQak78mAhyDmLX5c4OnaPTP6XmsmP2XXbsHN9YTJHAhmIYs+/FQU/ULZ9ijMqz8io7yjvz8Nf1adFrDjKaF+U8n9GWfKq2yGHXF4AAnIML4MSPqjKOHOCJoKbPdfh5S34MhNjI7uYtfdHmmH7GmcORLeCoz2P2c9lx+f2SA7o8z1rkTg5uW+NeO/mjMc31eZJxW+qrtshh1/bZgQ04ssXi4MpApTknT7y9h1giUKcAUPqYG+WH7GfycX68jrYycvQYxuxvihy8JjEmrt3PTNbHs/nVdzSJwvHnNVzpsUITl0oObPd14KP8zUAdF7hkp7Rx7tzkoBjUYg+/4oLl2r/16ISEvK6Jn+vod4zVx8dsxbl1fTSJgbqd8uTg4NSiEEEcNXLwZ3+PiwXrH4mNcopbpBK/SO2L3/Xq3MfHbGlOtUeXFFS7yeSgF08CWAQgCqfuHPQOoLU40dO668YvLisQdMk3WgCtMW/9zjdk3+dwPiV+X0SaE9+5sFAVw5h9L07U7f55TCICdEtGfcoJY14/n6853rqfLiu9bsvn1fnRJgjHn9dylscKB5KUO9AywItgBDwBmvmZPumd2qJD5DRkf6o+l4v6xmKI8uhS/Jx7cTJZ2Y554XqVx4rMT+mOY2O2NK/ao00M1M/x5/WchRxQCNg5ONfdF6BzLeDpzhNBjdxBf8p89unHe7uZvTH7zFnlyBbwUAxj9r04mW75Fhcs/eRUuwPZQYfPcQJBB48bLqN5qh9zx2xJf7WrYWeJ+XL8uX+zkYMApi2/gw+DIgzG47Mw44Bccx2k7uzQuc9Hj4hIc8bsS25K21rA7kOMYci+FwfdyoNaLf5swSrv2NN5zD1+Ofm6L7IR8zVma0qeSuZoEIfjz2u2L3JwBXV+cAC0ilO5PXhuK4fjOWzhr8hhxUeKdYCtVZx12Cqd44tl23LUwl+RQ5HDzvuJbVsUFe/nRFnksAASaIGxVZyWfPXX3X9ODLTwVzuHBZBGqzhzAqB0FaG0MNDCX5FDkUM9ViwAA62Fu4n+IocFA6BVnE0Ao2zUjqKFv107B4TqqBwUBrYPA9lNYhc5ZALVt/47S4u5K/frz33leOZ/Pl0JnRe0RQ7z5rPwuVo+W/irncMC3kW0ilMgXw3kla/95auFvyKHIof6tWIBGDhMYityWDAAWsU5TMCU7f3dhY9i3lr4q53DAkijVZyjCLTy+eiRSgt/RQ5FDvVYsQAMHCap7osc+H//fEuAVs7rmwH6DoC+NdAaj98J8O8V+DcGNN+/iRB1Sya2zIl2op9xfMwPt+E+Ebd/LyHaYdy/5RC/neBzZSMrjvuHTuVK9jI92FWc+qiL6hT9wrZ0SWbsOxvuh3zP2hizfEc2xuV+aUwxuG6Pjf4xG44d5irGLAbXrZxk+aVPeuWr69V59F+1yHQSi2xqPq10ZN/VYE6MSX4pZ9LpuddY1JnhD9nmzgHncDIqJ0APEic5ZNivVUDJ45R/lQgbHhRybs91Sb+30u/J1LjPldxUP6SDliTff89v+5br6CO64/cjNT/abcnG4uC750F2sa2iKxbZomVeC1TyReO6dj3U583XXtpVy8wP8u3z3IdYY8bQST/nzPOa+1zGwIf/MR2Nx9gcR2M2fC6yXHNkuofyO+Q7ulrjsuc2ZZu8QMqqC/2OOcY9H/Iv5pD5Tu7I8ZlE8uS60R91RvzJt5QcUIZxiuqOaZK3bigDP7qUFD9HR5RHzgNx3W5TcwEuBYnzol7k3bafS1drgWd2XRZb5Io2ymZgibaZ48VhPBbe9Qoc6PZ+zj0PWe7cdjbu+tAfiUHjWVxTxpCZMhdQCzPS67EN6chs+Nyx8aH8DtnNMIct4UP5plVMjAnD6out5glfQ/jw+ioObmyRSKNOx5/bT8lBAlGJ+r31hPm5ZKTjg/eO9aBHRmO0KlyWXAUY5/h816H+g/ghHa3WC4CM4lPxfF7mR9an4kyJd0hGuWz55b6PAdN1eUycZ7WSDPmIYNQYbRa/xjV28sTxPYvG/VnVhs/N8jc2Hv1Dh/rUug710RITY5xHGcWb6ZMOx1fmu+RoW7KRUFyOecKf6+L8QOQgZzGOsixYOXKUyYEY2LJljy8+xrjf9eMCVL5cxosztOhUOOkg1+pT6+BT3tHJONdx0cr3uEMYsoGusXF8i7mQjxpjXIdioVVuOHe/PDZ0SY/kpV9j3s9c2aLl2uVd91Bs7p/Pb/Ujg27GM7+crF2fn3sdx/Dh4x6HzrVOXSe2ZicHGfREZ0mSI0eZHLxYJNhB62Ockw8HphYgoIRg2Ob5uBfHixv16lp5F+DUT+sgd7vYjjZ9Hrp80QzZYN7YuHSTK/QKlPRnGJF8HPN4/FzytFNsxLnM8Xz4+FBs0T/sU7PWo4Gwj4xk/ZEUP7Dt8cRz1zGGDx+PcbgeP8ferOSAcoBOsjyYLHnI8gyJ4xQkziE59Hlg0kmAzEWH+rLWi8v4QfzI9Me+aM/Hszh8PAOEihML6vN0PiSjXCLrANAcbEtPbKPMQWJ03eTDF09WG8nHMWLQbmfMnyEbcS6xOq58XHnAF/mlNvpHP3M5JOMt+YYc4yH5TJ/P5zyrY+bbFFn56jqZJ/xF2ys/VkTFrjAb88WAcw5QX0hZUTJ9bk/nUW82b6of0jnURnsuS0yQIK33c57FSL8Xx/2M83Wd2Y+6Yw641kKTnti67SHgDo1FnVy7v0NzszF8Ip8sZs4z/WM23D6yjrs4N+bR7UX/uG7tIlt6vC7RD7elc5enz2skGbU+ltnHHv6ye/UfGhx/0kW7MjnERLsyzhnn4FzOkESuI0BVeAJhPCbbdTHeOjKffO6qfrgdfH7i0Yd3bOOj/2TkP9Mxz+26Hs5jvBr34shX3/Yih13lMfqQ6Y6gijIxLoEJH+UXsWR+ePySVet+0qd43Peo0+fGMfnljyer2oj4iHXwcdmTv/KNlj75F+NyOc6z/NMf9eMLsbk9ZPTzedSj+fjsNtHjRCU514s819hzWcef69wXOcRtkgcnpyTTco5xJdodUrIYjwlwOT/34qr/oH5Ij0CgeOLCULI17j5HH7J4sZMVBz3SSRvnRrtxPIIKO/IH3TEubJB7xa3W64GMg0oy3mKXHLnvjoHot8fGWIwD3dIp/3Q9ZMP1xFzGGBiXbuXIdXOOb+5f1Ony6GKcw3Ojc8bdv6F4GPO7vHRE+64PGcWBz5qjlrmegwx/yA6Sg5RV2961zJGbVnHm0F061lu7UyG/LfwVOQw8rmyq8K3ibMp+2dluAmnhr8ihyGHPtrPIYrvIoshhASTQWnSt4rTkq3+7Fu+6693CX+0cFkAareKsGxSlv0gGDLTwV+RQ5FCPFQvAwGESdZHDggHQKs5hAqZsb8+uooW/XTsHhOqoHBQGtg8D2c1ghxyywerbnrtH1bpqHTFQ5LDgx41YrLquBbxJDPw/WAuTKmDF47gAAAAASUVORK5CYII=)"
      ],
      "metadata": {
        "id": "BJh2TOc0QFFu"
      }
    },
    {
      "cell_type": "code",
      "source": [],
      "metadata": {
        "id": "2D9E5c5Ldryo"
      },
      "execution_count": null,
      "outputs": []
    }
  ]
}