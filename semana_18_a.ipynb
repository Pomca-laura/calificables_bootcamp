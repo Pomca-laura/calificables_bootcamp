{
  "cells": [
    {
      "cell_type": "markdown",
      "metadata": {
        "colab_type": "text",
        "id": "view-in-github"
      },
      "source": [
        "<a href=\"https://colab.research.google.com/github/Pomca-laura/calificables_bootcamp/blob/main/semana_18_a.ipynb\" target=\"_parent\"><img src=\"https://colab.research.google.com/assets/colab-badge.svg\" alt=\"Open In Colab\"/></a>"
      ]
    },
    {
      "cell_type": "markdown",
      "metadata": {
        "id": "jtt2-65DIoH3"
      },
      "source": [
        "#**RETO 1: INSIGNIAS EXPLORADOR IA**"
      ]
    },
    {
      "cell_type": "markdown",
      "metadata": {
        "id": "G0QvjX2yLg3A"
      },
      "source": [
        "## **Información general y calificación automática**"
      ]
    },
    {
      "cell_type": "markdown",
      "metadata": {
        "id": "F6f5_8VBIpr9"
      },
      "source": [
        "Lenguaje\n",
        "Python3\n",
        "\n",
        "Intentos\n",
        "0 de 10\n",
        "\n",
        "Puntaje requerido\n",
        "90%"
      ]
    },
    {
      "cell_type": "markdown",
      "metadata": {
        "id": "MjfU9HdOMS5F"
      },
      "source": [
        "###*Instrucciones para la calificación automática*"
      ]
    },
    {
      "cell_type": "markdown",
      "metadata": {
        "id": "B_W_NSaqMTEO"
      },
      "source": [
        "\n",
        "\n",
        "Antes de enviar la solución del quiz, por favor tenga en cuenta los siguientes aspectos:\n",
        "\n",
        "- Cada caso de prueba se especifica con una línea.\n",
        "\n",
        "- Cada línea debe contener los valores de los parámetros requeridos separados por un espacio.\n",
        "\n",
        "- Es importante no utilizar ningún mensaje a la hora de capturar las entradas, es decir, al utilizar la función input()no agregue ningún texto para capturar los datos.\n",
        "\n",
        "- Los resultados se muestran en una única línea. Los dos valores requeridos deben estar separados por un espacio."
      ]
    },
    {
      "cell_type": "markdown",
      "metadata": {
        "id": "V2zCN_XYLolf"
      },
      "source": [
        "##**Enunciado**"
      ]
    },
    {
      "cell_type": "markdown",
      "metadata": {
        "id": "eoGL1AJVJG-l"
      },
      "source": [
        "***Optimización de Rutas***\n",
        "\n",
        "En un mundo cada vez más interconectado, la optimización de rutas se ha convertido en un desafío crucial en diversas áreas, desde la logística y el transporte hasta la planificación de viajes y la gestión de redes de comunicación. En este escenario, se enfrenta el desafío de encontrar la ruta más corta entre dos ciudades específicas en un extenso mapa de conexiones. El mapa de conexiones representa una red compleja de ciudades interconectadas, donde cada ciudad está conectada a otras por una serie de rutas. Cada conexión está asociada con una distancia que indica la longitud o costo para viajar de una ciudad a otra. El propósito fundamental es determinar la ruta más corta entre una ciudad de origen y una ciudad de destino. Esta ruta óptima no solo implica la distancia mínima, sino también el camino más eficiente y práctico para el traslado entre las dos ciudades.\n",
        "\n",
        "\n"
      ]
    },
    {
      "cell_type": "markdown",
      "metadata": {
        "id": "sLk6OdTwQnE2"
      },
      "source": [
        "Teniendo el siguiente mapa en forma de grafo:\n",
        "\n",
        "grafo = {\n",
        "\n",
        "\n",
        "'A': {'B': 5, 'C': 8, 'D': 9},\n",
        "\n",
        "'B': {'A': 5, 'E': 15, 'F': 7},\n",
        "\n",
        "'C': {'A': 8, 'G': 12, 'H': 10},\n",
        "\n",
        "'D': {'A': 9, 'I': 11, 'J': 6},\n",
        "\n",
        "'E': {'B': 15, 'K': 9, 'L': 13},\n",
        "\n",
        "'F': {'B': 7, 'M': 8, 'N': 6},\n",
        "\n",
        "'G': {'C': 12, 'O': 10, 'P': 5},\n",
        "\n",
        "'H': {'C': 10, 'Q': 11, 'R': 7},\n",
        "\n",
        "'I': {'D': 11, 'S': 14, 'T': 8},\n",
        "\n",
        "'J': {'D': 6, 'U': 9, 'V': 12},\n",
        "\n",
        "'K': {'E': 9},\n",
        "\n",
        "'L': {'E': 13},\n",
        "\n",
        "'M': {'F': 8},\n",
        "\n",
        "'N': {'F': 6},\n",
        "\n",
        "'O': {'G': 10},\n",
        "\n",
        "'P': {'G': 5},\n",
        "\n",
        "'Q': {'H': 11},\n",
        "\n",
        "'R': {'H': 7},\n",
        "\n",
        "'S': {'I': 14},\n",
        "\n",
        "'T': {'I': 8},\n",
        "\n",
        "'U': {'J': 9},\n",
        "\n",
        "'V': {'J': 12}\n",
        "\n",
        "}\n"
      ]
    },
    {
      "cell_type": "markdown",
      "metadata": {
        "id": "55OKHbKpYKck"
      },
      "source": [
        "La lectura del grafo es la siguiente:\n",
        "\n",
        "\n",
        "- Existen 22 ciudades, cada una es una letra en mayúscula.\n",
        "\n",
        "- El valor de las distancias entre ciudades aparece como el valor de las claves del diccionario. Ejemplo: La distancia entre K y E es de 9. La distancia entre A y B es 5.\n",
        "\n",
        "- Se necesita implementar un programa en Python que encuentre la ruta más corta entre dos puntos usando el algoritmo DFS (Búsqueda en profundidad)."
      ]
    },
    {
      "cell_type": "markdown",
      "metadata": {
        "id": "DC6nQpcKJQqG"
      },
      "source": [
        "####**Entrada**\n",
        "\n",
        "Cada uno de los casos de prueba estará compuesto por una línea con la ciudad de origen y la ciudad destino. Las ciudades se representan con letras mayúsculas. (No colocar minúsculas ya que se genera error)"
      ]
    },
    {
      "cell_type": "markdown",
      "metadata": {
        "id": "6FtUXH8gJfrs"
      },
      "source": [
        "#### **Salida**\n",
        "\n",
        "La salida estará representada por una única línea formada por las letras correspondientes a la ruta más corta. Si no hay camino disponible entre los dos puntos imprimir la palabra 'None'"
      ]
    },
    {
      "cell_type": "markdown",
      "metadata": {
        "id": "BJh2TOc0QFFu"
      },
      "source": [
        "#### **Casos de prueba**\n",
        "\n",
        "![image.png](data:image/png;base64,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)"
      ]
    },
    {
      "cell_type": "code",
      "execution_count": 1,
      "metadata": {
        "id": "71TJx-tfYpID"
      },
      "outputs": [
        {
          "name": "stdout",
          "output_type": "stream",
          "text": [
            "A C H Q\n",
            "A C G P\n",
            "A B\n",
            "None\n"
          ]
        }
      ],
      "source": [
        "def dfs_shortest_path(graph, start, end, path=None):\n",
        "    if path is None:\n",
        "        path = [start]\n",
        "    if start == end:\n",
        "        return path\n",
        "    shortest = None\n",
        "    for node in graph[start]:\n",
        "        if node not in path:\n",
        "            newpath = dfs_shortest_path(graph, node, end, path + [node])\n",
        "            if newpath:\n",
        "                if not shortest or len(newpath) < len(shortest):\n",
        "                    shortest = newpath\n",
        "    return shortest\n",
        "\n",
        "# Grafo dado\n",
        "grafo = {\n",
        "    'A': {'B': 5, 'C': 8, 'D': 9},\n",
        "    'B': {'A': 5, 'E': 15, 'F': 7},\n",
        "    'C': {'A': 8, 'G': 12, 'H': 10},\n",
        "    'D': {'A': 9, 'I': 11, 'J': 6},\n",
        "    'E': {'B': 15, 'K': 9, 'L': 13},\n",
        "    'F': {'B': 7, 'M': 8, 'N': 6},\n",
        "    'G': {'C': 12, 'O': 10, 'P': 5},\n",
        "    'H': {'C': 10, 'Q': 11, 'R': 7},\n",
        "    'I': {'D': 11, 'S': 14, 'T': 8},\n",
        "    'J': {'D': 6, 'U': 9, 'V': 12},\n",
        "    'K': {'E': 9},\n",
        "    'L': {'E': 13},\n",
        "    'M': {'F': 8},\n",
        "    'N': {'F': 6},\n",
        "    'O': {'G': 10},\n",
        "    'P': {'G': 5},\n",
        "    'Q': {'H': 11},\n",
        "    'R': {'H': 7},\n",
        "    'S': {'I': 14},\n",
        "    'T': {'I': 8},\n",
        "    'U': {'J': 9},\n",
        "    'V': {'J': 12}\n",
        "}\n",
        "\n",
        "# Función principal para encontrar la ruta más corta\n",
        "def encontrar_ruta_corta(entrada):\n",
        "    ciudad_origen, ciudad_destino = entrada.split()\n",
        "    if ciudad_origen not in grafo or ciudad_destino not in grafo:\n",
        "        return \"None\"\n",
        "    ruta_mas_corta = dfs_shortest_path(grafo, ciudad_origen, ciudad_destino)\n",
        "    if ruta_mas_corta:\n",
        "        return ' '.join(ruta_mas_corta)\n",
        "    else:\n",
        "        return \"None\"\n",
        "\n",
        "# Entradas de prueba\n",
        "casos_prueba = [\n",
        "    \"A Q\",\n",
        "    \"A P\",\n",
        "    \"A B\",\n",
        "    \"A Z\"\n",
        "]\n",
        "\n",
        "# Mostrar resultados\n",
        "for caso in casos_prueba:\n",
        "    print(encontrar_ruta_corta(caso))\n"
      ]
    }
  ],
  "metadata": {
    "colab": {
      "authorship_tag": "ABX9TyPl5vHOyofKFGiOMxDoQtjy",
      "include_colab_link": true,
      "provenance": []
    },
    "kernelspec": {
      "display_name": "Python 3",
      "name": "python3"
    },
    "language_info": {
      "codemirror_mode": {
        "name": "ipython",
        "version": 3
      },
      "file_extension": ".py",
      "mimetype": "text/x-python",
      "name": "python",
      "nbconvert_exporter": "python",
      "pygments_lexer": "ipython3",
      "version": "3.12.3"
    }
  },
  "nbformat": 4,
  "nbformat_minor": 0
}
